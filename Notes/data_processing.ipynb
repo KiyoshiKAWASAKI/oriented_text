{
 "cells": [
  {
   "cell_type": "code",
   "execution_count": 78,
   "metadata": {
    "collapsed": true
   },
   "outputs": [],
   "source": [
    "%matplotlib inline\n",
    "%load_ext autoreload\n",
    "%autoreload 2\n",
    "import numpy as np \n",
    "import scipy.io as sio\n",
    "import os, os.path\n",
    "import sys\n",
    "import tensorflow as tf\n",
    "sys.path.append('../')\n",
    "import re\n",
    "from datasets.dataset_utils import int64_feature, float_feature, bytes_feature ,ImageCoder, norm\n",
    "from datasets import sythtextprovider\n",
    "import matplotlib.pyplot as plt\n",
    "from PIL import Image\n",
    "slim = tf.contrib.slim"
   ]
  },
  {
   "cell_type": "code",
   "execution_count": 80,
   "metadata": {
    "collapsed": true
   },
   "outputs": [],
   "source": [
    "data_path = '../../TextBoxes-TensorFlow/data/sythtext/'\n",
    "cellname = 'gt'\n",
    "textname = 'txt'\n",
    "imcell = 'imnames'\n",
    "wordname = 'wordBB'\n",
    "charname = 'charBB'\n",
    "NUMoffolder = 200"
   ]
  },
  {
   "cell_type": "code",
   "execution_count": 81,
   "metadata": {
    "collapsed": true
   },
   "outputs": [],
   "source": [
    "def _convert_to_example(image_data, shape, charbb, bbox, label,imname):\n",
    "\t\n",
    "\tnbbox = np.array(bbox)\n",
    "\tymin = list(nbbox[:, 0])\n",
    "\txmin = list(nbbox[:, 1])\n",
    "\tymax = list(nbbox[:, 2])\n",
    "\txmax = list(nbbox[:, 3])\n",
    "\n",
    "\t#print 'shape: {}, height:{}, width:{}'.format(shape,shape[0],shape[1])\n",
    "\texample = tf.train.Example(features=tf.train.Features(feature={\n",
    "\t\t\t'image/height': int64_feature(shape[0]),\n",
    "\t\t\t'image/width': int64_feature(shape[1]),\n",
    "\t\t\t'image/channels': int64_feature(shape[2]),\n",
    "\t\t\t'image/shape': int64_feature(shape),\n",
    "\t\t\t'image/object/bbox/x0': float_feature(charbb[0,0,:].tolist()),\n",
    "\t\t\t'image/object/bbox/x1': float_feature(charbb[0,1,:].tolist()),\n",
    "\t\t\t'image/object/bbox/x2': float_feature(charbb[0,2,:].tolist()),\n",
    "\t\t\t'image/object/bbox/x3': float_feature(charbb[0,3,:].tolist()),\n",
    "\t\t\t'image/object/bbox/y0': float_feature(charbb[1,0,:].tolist()),\n",
    "\t\t\t'image/object/bbox/y1': float_feature(charbb[1,1,:].tolist()),\n",
    "\t\t\t'image/object/bbox/y2': float_feature(charbb[1,2,:].tolist()),\n",
    "\t\t\t'image/object/bbox/y3': float_feature(charbb[1,3,:].tolist()),\n",
    "\t\t\t'image/object/bbox/ymin': float_feature(ymin),\n",
    "\t\t\t'image/object/bbox/xmin': float_feature(xmin),\n",
    "\t\t\t'image/object/bbox/ymax': float_feature(ymax),\n",
    "\t\t\t'image/object/bbox/xmax': float_feature(xmax),\n",
    "\t\t\t'image/object/bbox/label': int64_feature(label),\n",
    "\t\t\t'image/format': bytes_feature('jpeg'),\n",
    "\t\t\t'image/encoded': bytes_feature(image_data),\n",
    "\t\t\t'image/name': bytes_feature(imname.tostring()),\n",
    "\t\t\t}))\n",
    "\treturn example\n",
    "\t\n",
    "\n",
    "def _processing_image(charbb, imname,coder):\n",
    "\timage_data = tf.gfile.GFile(data_path+imname, 'r').read()\n",
    "\timage = coder.decode_jpeg(image_data)\n",
    "\tshape = image.shape\n",
    "\n",
    "\tif(len(charbb.shape) < 3 ):\n",
    "\t\tnumofbox = 1\n",
    "\telse:\n",
    "\t\tnumofbox = charbb.shape[2]\n",
    "\tbbox = []\n",
    "\t[xmin, ymin]= np.min(charbb,1)\n",
    "\t[xmax, ymax] = np.max(charbb,1)\n",
    "\txmin = np.maximum(xmin/shape[1], 0.0)\n",
    "\tymin = np.maximum(ymin/shape[0], 0.0)\n",
    "\txmax = np.minimum(xmax/shape[1], 1.0)\n",
    "\tymax = np.minimum(ymax/shape[0], 1.0)\n",
    "\tif numofbox > 1:\n",
    "\t\tbbox = [[ymin[i],xmin[i],ymax[i],xmax[i]] for i in range(numofbox)] \n",
    "\tif numofbox == 1:\n",
    "\t\tbbox = [[ymin,xmin,ymax,xmax]]\n",
    "\n",
    "\tcharbb[0,:,:] = charbb[0,:,:]*1. / shape[1]\n",
    "\tcharbb[1,:,:] = charbb[1,:,:]*1. / shape[0]\n",
    "\n",
    "\tlabel = [1 for i in range(numofbox)]\n",
    "\tshape = list(shape)\n",
    "\n",
    "\treturn image_data, shape, charbb, bbox, label, imname"
   ]
  },
  {
   "cell_type": "code",
   "execution_count": 82,
   "metadata": {
    "collapsed": true
   },
   "outputs": [],
   "source": [
    "labels = sio.loadmat(data_path + 'gt.mat')"
   ]
  },
  {
   "cell_type": "code",
   "execution_count": 83,
   "metadata": {},
   "outputs": [
    {
     "name": "stdout",
     "output_type": "stream",
     "text": [
      "['wordBB', 'txt', '__header__', '__globals__', '__version__', 'imnames', 'charBB']\n"
     ]
    }
   ],
   "source": [
    "print labels.keys()\n",
    "texts = labels[textname]\n",
    "imnames = labels[imcell]\n",
    "wordBB = labels[wordname]\n",
    "charBB = labels[charname]"
   ]
  },
  {
   "cell_type": "code",
   "execution_count": 87,
   "metadata": {},
   "outputs": [
    {
     "name": "stdout",
     "output_type": "stream",
     "text": [
      "1\n",
      "<_sre.SRE_Pattern object at 0x13e4bd828>\n",
      "The size of 1 folder : 4262\n",
      "Transform to tfrecord finished\n"
     ]
    }
   ],
   "source": [
    "coder = ImageCoder()\n",
    "for i in [0]:\n",
    "    tf_filename = str(i+1) + '.tfrecord'\n",
    "    tfrecord_writer = tf.python_io.TFRecordWriter('../data/sythtext/' + tf_filename)\n",
    "    dir = i+1\n",
    "    pattern = re.compile(r'^{}\\/'.format(dir))\n",
    "    print dir\n",
    "    print pattern\n",
    "    res =[k for k in range(imnames.shape[1]) if pattern.match(imnames[0,k][0]) != None ]\n",
    "    print \"The size of %s folder : %s\" % (dir,len(res))\n",
    "    # shuffle\n",
    "    res = np.random.permutation(res)\n",
    "    for j in res:\n",
    "        charbb = charBB[0,j]\n",
    "        imname = imnames[0,j][0]\n",
    "        #print str(i) + imname\n",
    "        image_data, shape, charbb, bbox, label ,imname= _processing_image(charbb, imname,coder)\n",
    "\n",
    "        example = _convert_to_example(image_data, shape, charbb, bbox, label, imname)\n",
    "        tfrecord_writer.write(example.SerializeToString())  \n",
    "print 'Transform to tfrecord finished'"
   ]
  },
  {
   "cell_type": "code",
   "execution_count": null,
   "metadata": {
    "collapsed": true
   },
   "outputs": [],
   "source": []
  }
 ],
 "metadata": {
  "kernelspec": {
   "display_name": "tensorflow1.2",
   "language": "python",
   "name": "tf1.2"
  },
  "language_info": {
   "codemirror_mode": {
    "name": "ipython",
    "version": 2
   },
   "file_extension": ".py",
   "mimetype": "text/x-python",
   "name": "python",
   "nbconvert_exporter": "python",
   "pygments_lexer": "ipython2",
   "version": "2.7.13"
  }
 },
 "nbformat": 4,
 "nbformat_minor": 1
}
