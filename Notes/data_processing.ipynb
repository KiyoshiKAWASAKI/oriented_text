{
 "cells": [
  {
   "cell_type": "code",
   "execution_count": 1,
   "metadata": {
    "collapsed": false,
    "deletable": true,
    "editable": true
   },
   "outputs": [],
   "source": [
    "import numpy as np \n",
    "import scipy.io as sio\n",
    "import os, os.path\n",
    "import sys\n",
    "import tensorflow as tf\n",
    "sys.path.append('../')\n",
    "import re\n",
    "from datasets.dataset_utils import int64_feature, float_feature, bytes_feature ,ImageCoder, norm\n",
    "\n",
    "from PIL import Image"
   ]
  },
  {
   "cell_type": "code",
   "execution_count": 2,
   "metadata": {
    "collapsed": false,
    "deletable": true,
    "editable": true
   },
   "outputs": [],
   "source": [
    "data_path = '../../TextBoxes-TensorFlow/data/sythtext/'\n",
    "cellname = 'gt'\n",
    "textname = 'txt'\n",
    "imcell = 'imnames'\n",
    "wordname = 'wordBB'\n",
    "charname = 'charBB'\n",
    "NUMoffolder = 200"
   ]
  },
  {
   "cell_type": "code",
   "execution_count": 11,
   "metadata": {
    "collapsed": true
   },
   "outputs": [],
   "source": [
    "def _convert_to_example(image_data, shape, charbb, label,imname):\n",
    "\n",
    "\t#print 'shape: {}, height:{}, width:{}'.format(shape,shape[0],shape[1])\n",
    "\texample = tf.train.Example(features=tf.train.Features(feature={\n",
    "\t\t\t'image/height': int64_feature(shape[0]),\n",
    "\t\t\t'image/width': int64_feature(shape[1]),\n",
    "\t\t\t'image/channels': int64_feature(shape[2]),\n",
    "\t\t\t'image/shape': int64_feature(shape),\n",
    "\t\t\t'image/object/bbox/x0': float_feature(charbb[0,0,:].tolist()),\n",
    "\t\t\t'image/object/bbox/x1': float_feature(charbb[0,1,:].tolist()),\n",
    "\t\t\t'image/object/bbox/x2': float_feature(charbb[0,2,:].tolist()),\n",
    "\t\t\t'image/object/bbox/x3': float_feature(charbb[0,3,:].tolist()),\n",
    "\t\t\t'image/object/bbox/y0': float_feature(charbb[1,0,:].tolist()),\n",
    "\t\t\t'image/object/bbox/y1': float_feature(charbb[1,1,:].tolist()),\n",
    "\t\t\t'image/object/bbox/y2': float_feature(charbb[1,2,:].tolist()),\n",
    "\t\t\t'image/object/bbox/y3': float_feature(charbb[1,3,:].tolist()),\n",
    "\t\t\t'image/object/bbox/label': int64_feature(label),\n",
    "\t\t\t'image/format': bytes_feature('jpeg'),\n",
    "\t\t\t'image/encoded': bytes_feature(image_data),\n",
    "\t\t\t'image/name': bytes_feature(imname.tostring()),\n",
    "\t\t\t}))\n",
    "\treturn example\n",
    "\t\n",
    "\n",
    "def _processing_image(charbb, imname,coder):\n",
    "\timage_data = tf.gfile.GFile(data_path+imname, 'r').read()\n",
    "\timage = coder.decode_jpeg(image_data)\n",
    "\tshape = image.shape\n",
    "\tnumofbox = charbb.shape[2]\n",
    "\t#in the order [x1,x2,x3,x4,y1,y2,y3,y4]\n",
    "\tlabel = [1 for i in range(numofbox)]\n",
    "\tshape = list(shape)\n",
    "\treturn image_data, shape, charbb, label, imname\n"
   ]
  },
  {
   "cell_type": "code",
   "execution_count": 4,
   "metadata": {
    "collapsed": false
   },
   "outputs": [],
   "source": [
    "labels = sio.loadmat(data_path + 'gt.mat')"
   ]
  },
  {
   "cell_type": "code",
   "execution_count": 5,
   "metadata": {
    "collapsed": false
   },
   "outputs": [
    {
     "name": "stdout",
     "output_type": "stream",
     "text": [
      "['wordBB', 'txt', '__header__', '__globals__', '__version__', 'imnames', 'charBB']\n"
     ]
    }
   ],
   "source": [
    "print labels.keys()\n",
    "texts = labels[textname]\n",
    "imnames = labels[imcell]\n",
    "wordBB = labels[wordname]\n",
    "charBB = labels[charname]"
   ]
  },
  {
   "cell_type": "code",
   "execution_count": null,
   "metadata": {
    "collapsed": true
   },
   "outputs": [],
   "source": [
    "dir = 0+1\n",
    "pattern = re.compile(r'^{}\\/'.format(dir))\n",
    "res =[k for k in range(imnames.shape[1]) if pattern.match(imnames[0,k][0]) != None ]"
   ]
  },
  {
   "cell_type": "code",
   "execution_count": null,
   "metadata": {
    "collapsed": false
   },
   "outputs": [],
   "source": [
    "image = np.array(Image.open(imnames[0,res[1]][0]))\n",
    "image.shape"
   ]
  },
  {
   "cell_type": "code",
   "execution_count": null,
   "metadata": {
    "collapsed": false
   },
   "outputs": [],
   "source": [
    "chars = charBB[0,res[1]]"
   ]
  },
  {
   "cell_type": "code",
   "execution_count": null,
   "metadata": {
    "collapsed": false
   },
   "outputs": [],
   "source": [
    "for i in range(N):\n",
    "    chars[0,:,i] = chars[0,:,i]/image.shape[1]\n",
    "    chars[1,:,i] = chars[1,:,i]/image.shape[0]\n",
    "    \n",
    "# 2 dimention, first is x, second is y"
   ]
  },
  {
   "cell_type": "code",
   "execution_count": null,
   "metadata": {
    "collapsed": false
   },
   "outputs": [],
   "source": [
    "print chars[:,:,0].tolist()\n",
    "print chars[:,:,0].reshape(-1).tolist()\n",
    "print chars[0,1,:]"
   ]
  },
  {
   "cell_type": "code",
   "execution_count": null,
   "metadata": {
    "collapsed": false
   },
   "outputs": [],
   "source": [
    "import cv2\n",
    "fig = plt.figure(figsize=(10,10))\n",
    "for i in range(chars.shape[2]):\n",
    "    cv2.polylines(image,np.array(np.expand_dims(chars[:,:,i].T,axis=0),dtype=np.int32),True ,255)\n",
    "plt.imshow(image)\n",
    "plt.show()"
   ]
  },
  {
   "cell_type": "code",
   "execution_count": 12,
   "metadata": {
    "collapsed": false
   },
   "outputs": [
    {
     "name": "stdout",
     "output_type": "stream",
     "text": [
      "1\n",
      "<_sre.SRE_Pattern object at 0x131f00580>\n",
      "The size of 1 folder : 4262\n",
      "2\n",
      "<_sre.SRE_Pattern object at 0x157a42e88>\n",
      "The size of 2 folder : 4449\n"
     ]
    },
    {
     "ename": "NotFoundError",
     "evalue": "../../TextBoxes-TensorFlow/data/sythtext/2/ant+hill_86_98.jpg",
     "output_type": "error",
     "traceback": [
      "\u001b[0;31m---------------------------------------------------------------------------\u001b[0m",
      "\u001b[0;31mNotFoundError\u001b[0m                             Traceback (most recent call last)",
      "\u001b[0;32m<ipython-input-12-706f319dd6df>\u001b[0m in \u001b[0;36m<module>\u001b[0;34m()\u001b[0m\n\u001b[1;32m     15\u001b[0m         \u001b[0mimname\u001b[0m \u001b[0;34m=\u001b[0m \u001b[0mimnames\u001b[0m\u001b[0;34m[\u001b[0m\u001b[0;36m0\u001b[0m\u001b[0;34m,\u001b[0m\u001b[0mj\u001b[0m\u001b[0;34m]\u001b[0m\u001b[0;34m[\u001b[0m\u001b[0;36m0\u001b[0m\u001b[0;34m]\u001b[0m\u001b[0;34m\u001b[0m\u001b[0m\n\u001b[1;32m     16\u001b[0m         \u001b[0;31m#print str(i) + imname\u001b[0m\u001b[0;34m\u001b[0m\u001b[0;34m\u001b[0m\u001b[0m\n\u001b[0;32m---> 17\u001b[0;31m         \u001b[0mimage_data\u001b[0m\u001b[0;34m,\u001b[0m \u001b[0mshape\u001b[0m\u001b[0;34m,\u001b[0m \u001b[0mbbox\u001b[0m\u001b[0;34m,\u001b[0m \u001b[0mlabel\u001b[0m \u001b[0;34m,\u001b[0m\u001b[0mimname\u001b[0m\u001b[0;34m=\u001b[0m \u001b[0m_processing_image\u001b[0m\u001b[0;34m(\u001b[0m\u001b[0mcharbb\u001b[0m\u001b[0;34m,\u001b[0m \u001b[0mimname\u001b[0m\u001b[0;34m,\u001b[0m\u001b[0mcoder\u001b[0m\u001b[0;34m)\u001b[0m\u001b[0;34m\u001b[0m\u001b[0m\n\u001b[0m\u001b[1;32m     18\u001b[0m \u001b[0;34m\u001b[0m\u001b[0m\n\u001b[1;32m     19\u001b[0m         \u001b[0mexample\u001b[0m \u001b[0;34m=\u001b[0m \u001b[0m_convert_to_example\u001b[0m\u001b[0;34m(\u001b[0m\u001b[0mimage_data\u001b[0m\u001b[0;34m,\u001b[0m \u001b[0mshape\u001b[0m\u001b[0;34m,\u001b[0m \u001b[0mbbox\u001b[0m\u001b[0;34m,\u001b[0m \u001b[0mlabel\u001b[0m\u001b[0;34m,\u001b[0m \u001b[0mimname\u001b[0m\u001b[0;34m)\u001b[0m\u001b[0;34m\u001b[0m\u001b[0m\n",
      "\u001b[0;32m<ipython-input-11-8ec6c9865c39>\u001b[0m in \u001b[0;36m_processing_image\u001b[0;34m(charbb, imname, coder)\u001b[0m\n\u001b[1;32m     24\u001b[0m \u001b[0;34m\u001b[0m\u001b[0m\n\u001b[1;32m     25\u001b[0m \u001b[0;32mdef\u001b[0m \u001b[0m_processing_image\u001b[0m\u001b[0;34m(\u001b[0m\u001b[0mcharbb\u001b[0m\u001b[0;34m,\u001b[0m \u001b[0mimname\u001b[0m\u001b[0;34m,\u001b[0m\u001b[0mcoder\u001b[0m\u001b[0;34m)\u001b[0m\u001b[0;34m:\u001b[0m\u001b[0;34m\u001b[0m\u001b[0m\n\u001b[0;32m---> 26\u001b[0;31m         \u001b[0mimage_data\u001b[0m \u001b[0;34m=\u001b[0m \u001b[0mtf\u001b[0m\u001b[0;34m.\u001b[0m\u001b[0mgfile\u001b[0m\u001b[0;34m.\u001b[0m\u001b[0mGFile\u001b[0m\u001b[0;34m(\u001b[0m\u001b[0mdata_path\u001b[0m\u001b[0;34m+\u001b[0m\u001b[0mimname\u001b[0m\u001b[0;34m,\u001b[0m \u001b[0;34m'r'\u001b[0m\u001b[0;34m)\u001b[0m\u001b[0;34m.\u001b[0m\u001b[0mread\u001b[0m\u001b[0;34m(\u001b[0m\u001b[0;34m)\u001b[0m\u001b[0;34m\u001b[0m\u001b[0m\n\u001b[0m\u001b[1;32m     27\u001b[0m         \u001b[0mimage\u001b[0m \u001b[0;34m=\u001b[0m \u001b[0mcoder\u001b[0m\u001b[0;34m.\u001b[0m\u001b[0mdecode_jpeg\u001b[0m\u001b[0;34m(\u001b[0m\u001b[0mimage_data\u001b[0m\u001b[0;34m)\u001b[0m\u001b[0;34m\u001b[0m\u001b[0m\n\u001b[1;32m     28\u001b[0m         \u001b[0mshape\u001b[0m \u001b[0;34m=\u001b[0m \u001b[0mimage\u001b[0m\u001b[0;34m.\u001b[0m\u001b[0mshape\u001b[0m\u001b[0;34m\u001b[0m\u001b[0m\n",
      "\u001b[0;32m/Applications/python/anaconda/envs/tensorflow2.7/lib/python2.7/site-packages/tensorflow/python/lib/io/file_io.pyc\u001b[0m in \u001b[0;36mread\u001b[0;34m(self, n)\u001b[0m\n\u001b[1;32m    113\u001b[0m       \u001b[0mstring\u001b[0m \u001b[0;32mif\u001b[0m \u001b[0;32min\u001b[0m \u001b[0mstring\u001b[0m \u001b[0;34m(\u001b[0m\u001b[0mregular\u001b[0m\u001b[0;34m)\u001b[0m \u001b[0mmode\u001b[0m\u001b[0;34m.\u001b[0m\u001b[0;34m\u001b[0m\u001b[0m\n\u001b[1;32m    114\u001b[0m     \"\"\"\n\u001b[0;32m--> 115\u001b[0;31m     \u001b[0mself\u001b[0m\u001b[0;34m.\u001b[0m\u001b[0m_preread_check\u001b[0m\u001b[0;34m(\u001b[0m\u001b[0;34m)\u001b[0m\u001b[0;34m\u001b[0m\u001b[0m\n\u001b[0m\u001b[1;32m    116\u001b[0m     \u001b[0;32mwith\u001b[0m \u001b[0merrors\u001b[0m\u001b[0;34m.\u001b[0m\u001b[0mraise_exception_on_not_ok_status\u001b[0m\u001b[0;34m(\u001b[0m\u001b[0;34m)\u001b[0m \u001b[0;32mas\u001b[0m \u001b[0mstatus\u001b[0m\u001b[0;34m:\u001b[0m\u001b[0;34m\u001b[0m\u001b[0m\n\u001b[1;32m    117\u001b[0m       \u001b[0;32mif\u001b[0m \u001b[0mn\u001b[0m \u001b[0;34m==\u001b[0m \u001b[0;34m-\u001b[0m\u001b[0;36m1\u001b[0m\u001b[0;34m:\u001b[0m\u001b[0;34m\u001b[0m\u001b[0m\n",
      "\u001b[0;32m/Applications/python/anaconda/envs/tensorflow2.7/lib/python2.7/site-packages/tensorflow/python/lib/io/file_io.pyc\u001b[0m in \u001b[0;36m_preread_check\u001b[0;34m(self)\u001b[0m\n\u001b[1;32m     73\u001b[0m       \u001b[0;32mwith\u001b[0m \u001b[0merrors\u001b[0m\u001b[0;34m.\u001b[0m\u001b[0mraise_exception_on_not_ok_status\u001b[0m\u001b[0;34m(\u001b[0m\u001b[0;34m)\u001b[0m \u001b[0;32mas\u001b[0m \u001b[0mstatus\u001b[0m\u001b[0;34m:\u001b[0m\u001b[0;34m\u001b[0m\u001b[0m\n\u001b[1;32m     74\u001b[0m         self._read_buf = pywrap_tensorflow.CreateBufferedInputStream(\n\u001b[0;32m---> 75\u001b[0;31m             compat.as_bytes(self.__name), 1024 * 512, status)\n\u001b[0m\u001b[1;32m     76\u001b[0m \u001b[0;34m\u001b[0m\u001b[0m\n\u001b[1;32m     77\u001b[0m   \u001b[0;32mdef\u001b[0m \u001b[0m_prewrite_check\u001b[0m\u001b[0;34m(\u001b[0m\u001b[0mself\u001b[0m\u001b[0;34m)\u001b[0m\u001b[0;34m:\u001b[0m\u001b[0;34m\u001b[0m\u001b[0m\n",
      "\u001b[0;32m/Applications/python/anaconda/envs/tensorflow2.7/lib/python2.7/contextlib.pyc\u001b[0m in \u001b[0;36m__exit__\u001b[0;34m(self, type, value, traceback)\u001b[0m\n\u001b[1;32m     22\u001b[0m         \u001b[0;32mif\u001b[0m \u001b[0mtype\u001b[0m \u001b[0;32mis\u001b[0m \u001b[0mNone\u001b[0m\u001b[0;34m:\u001b[0m\u001b[0;34m\u001b[0m\u001b[0m\n\u001b[1;32m     23\u001b[0m             \u001b[0;32mtry\u001b[0m\u001b[0;34m:\u001b[0m\u001b[0;34m\u001b[0m\u001b[0m\n\u001b[0;32m---> 24\u001b[0;31m                 \u001b[0mself\u001b[0m\u001b[0;34m.\u001b[0m\u001b[0mgen\u001b[0m\u001b[0;34m.\u001b[0m\u001b[0mnext\u001b[0m\u001b[0;34m(\u001b[0m\u001b[0;34m)\u001b[0m\u001b[0;34m\u001b[0m\u001b[0m\n\u001b[0m\u001b[1;32m     25\u001b[0m             \u001b[0;32mexcept\u001b[0m \u001b[0mStopIteration\u001b[0m\u001b[0;34m:\u001b[0m\u001b[0;34m\u001b[0m\u001b[0m\n\u001b[1;32m     26\u001b[0m                 \u001b[0;32mreturn\u001b[0m\u001b[0;34m\u001b[0m\u001b[0m\n",
      "\u001b[0;32m/Applications/python/anaconda/envs/tensorflow2.7/lib/python2.7/site-packages/tensorflow/python/framework/errors_impl.pyc\u001b[0m in \u001b[0;36mraise_exception_on_not_ok_status\u001b[0;34m()\u001b[0m\n\u001b[1;32m    464\u001b[0m           \u001b[0mNone\u001b[0m\u001b[0;34m,\u001b[0m \u001b[0mNone\u001b[0m\u001b[0;34m,\u001b[0m\u001b[0;34m\u001b[0m\u001b[0m\n\u001b[1;32m    465\u001b[0m           \u001b[0mcompat\u001b[0m\u001b[0;34m.\u001b[0m\u001b[0mas_text\u001b[0m\u001b[0;34m(\u001b[0m\u001b[0mpywrap_tensorflow\u001b[0m\u001b[0;34m.\u001b[0m\u001b[0mTF_Message\u001b[0m\u001b[0;34m(\u001b[0m\u001b[0mstatus\u001b[0m\u001b[0;34m)\u001b[0m\u001b[0;34m)\u001b[0m\u001b[0;34m,\u001b[0m\u001b[0;34m\u001b[0m\u001b[0m\n\u001b[0;32m--> 466\u001b[0;31m           pywrap_tensorflow.TF_GetCode(status))\n\u001b[0m\u001b[1;32m    467\u001b[0m   \u001b[0;32mfinally\u001b[0m\u001b[0;34m:\u001b[0m\u001b[0;34m\u001b[0m\u001b[0m\n\u001b[1;32m    468\u001b[0m     \u001b[0mpywrap_tensorflow\u001b[0m\u001b[0;34m.\u001b[0m\u001b[0mTF_DeleteStatus\u001b[0m\u001b[0;34m(\u001b[0m\u001b[0mstatus\u001b[0m\u001b[0;34m)\u001b[0m\u001b[0;34m\u001b[0m\u001b[0m\n",
      "\u001b[0;31mNotFoundError\u001b[0m: ../../TextBoxes-TensorFlow/data/sythtext/2/ant+hill_86_98.jpg"
     ]
    }
   ],
   "source": [
    "coder = ImageCoder()\n",
    "for i in range(NUMoffolder):\n",
    "    tf_filename = str(i+1) + '.tfrecord'\n",
    "    tfrecord_writer = tf.python_io.TFRecordWriter('../data/'+tf_filename)\n",
    "    dir = i+1\n",
    "    pattern = re.compile(r'^{}\\/'.format(dir))\n",
    "    print dir\n",
    "    print pattern\n",
    "    res =[k for k in range(imnames.shape[1]) if pattern.match(imnames[0,k][0]) != None ]\n",
    "    print \"The size of %s folder : %s\" % (dir,len(res))\n",
    "    # shuffle\n",
    "    res = np.random.permutation(res)\n",
    "    for j in res:\n",
    "        charbb = charBB[0,j]\n",
    "        imname = imnames[0,j][0]\n",
    "        #print str(i) + imname\n",
    "        image_data, shape, bbox, label ,imname= _processing_image(charbb, imname,coder)\n",
    "\n",
    "        example = _convert_to_example(image_data, shape, bbox, label, imname)\n",
    "        tfrecord_writer.write(example.SerializeToString())  \n",
    "print 'Transform to tfrecord finished'\n",
    "tf.boo"
   ]
  },
  {
   "cell_type": "code",
   "execution_count": null,
   "metadata": {
    "collapsed": true
   },
   "outputs": [],
   "source": []
  }
 ],
 "metadata": {
  "kernelspec": {
   "display_name": "keras_tf_2.7",
   "language": "python",
   "name": "tensorflow2.7"
  },
  "language_info": {
   "codemirror_mode": {
    "name": "ipython",
    "version": 2
   },
   "file_extension": ".py",
   "mimetype": "text/x-python",
   "name": "python",
   "nbconvert_exporter": "python",
   "pygments_lexer": "ipython2",
   "version": "2.7.13"
  }
 },
 "nbformat": 4,
 "nbformat_minor": 0
}
