{
 "cells": [
  {
   "cell_type": "code",
   "execution_count": 2,
   "metadata": {},
   "outputs": [],
   "source": [
    "%matplotlib inline\n",
    "%load_ext autoreload\n",
    "%autoreload 2\n",
    "import numpy as np \n",
    "import scipy.io as sio\n",
    "import os, os.path\n",
    "import sys\n",
    "import tensorflow as tf\n",
    "sys.path.append('../')\n",
    "import re\n",
    "from datasets.dataset_utils import int64_feature, float_feature, bytes_feature ,ImageCoder, norm\n",
    "from datasets import sythtextprovider\n",
    "from processing import txt_preprocessing\n",
    "from nets import txtbox_512\n",
    "import matplotlib.pyplot as plt\n",
    "from PIL import Image\n",
    "slim = tf.contrib.slim\n",
    "import cv2\n"
   ]
  },
  {
   "cell_type": "code",
   "execution_count": 3,
   "metadata": {},
   "outputs": [],
   "source": [
    "isess = tf.InteractiveSession()"
   ]
  },
  {
   "cell_type": "code",
   "execution_count": 4,
   "metadata": {
    "collapsed": true
   },
   "outputs": [],
   "source": [
    "def visualize_bbox(image, bboxes):\n",
    "    \"\"\"\n",
    "    Input: image (height, width, channels)\n",
    "           bboxes (numof bboxes, 4) in order(ymin, xmin, ymax, xmax)\n",
    "                  range(0,1) \n",
    "    \"\"\"\n",
    "    #fig = plt.figure(figsize=(10,10))\n",
    "    numofbox = bboxes.shape[0]\n",
    "    width = image.shape[1]\n",
    "    height = image.shape[0]\n",
    "    def norm(x):\n",
    "        if x < 0:\n",
    "            x = 0\n",
    "        else:\n",
    "            if x > 1:\n",
    "                x = 1\n",
    "        return x\n",
    "    xmin = [int(i * width) for i in bboxes[:,1]]\n",
    "    ymin = [int(i * height) for i in bboxes[:,0]]\n",
    "    ymax = [int(i * height) for i in bboxes[:,2]]\n",
    "    xmax = [int(i * width) for i in bboxes[:,3]]\n",
    "\n",
    "    for i in range(numofbox):\n",
    "        image = cv2.rectangle(image,(xmin[i],ymin[i]),\n",
    "                             (xmax[i],ymax[i]),(0,255,255),)\n",
    "    #print [ymin,xmin,ymax,xmax]\n",
    "    plt.imshow(image)\n",
    "    plt.show()"
   ]
  },
  {
   "cell_type": "code",
   "execution_count": null,
   "metadata": {
    "collapsed": true
   },
   "outputs": [],
   "source": [
    "## test the tf record\n",
    "batch_size = 1\n",
    "num_readers = 4\n",
    "shuffe = False\n",
    "with tf.Graph().as_default():\n",
    "    dataset = sythtextprovider.get_datasets('../data/sythtext/',file_pattern = '*.tfrecord')\n",
    "\n",
    "    provider = slim.dataset_data_provider.DatasetDataProvider(\n",
    "                dataset,\n",
    "                num_readers=num_readers,\n",
    "                common_queue_capacity=20 * batch_size,\n",
    "                common_queue_min=10 * batch_size,\n",
    "                shuffle=shuffe)\n",
    "\n",
    "    [image, shape, glabels, gbboxes, corx, cory] = provider.get(['image', 'shape',\n",
    "                                                     'object/label',\n",
    "                                                     'object/bbox',\n",
    "                                                     'object/corx',\n",
    "                                                     'object/cory'])\n",
    "    shape = tf.cast(shape, tf.float32)\n",
    "    cord = tf.concat([tf.expand_dims(tf.transpose(corx*shape[1]),0),tf.expand_dims(tf.transpose(cory*shape[0]),0)],0)\n",
    "    with tf.Session() as sess,slim.queues.QueueRunners(sess): \n",
    "        sess.run(tf.global_variables_initializer())\n",
    "        #with slim.queues.QueueRunners(sess):\n",
    "        for i in xrange(1):\n",
    "            image_, shape_, labels_ , gbboxes_ , corx_, cory_, cord_= \\\n",
    "                                    sess.run([image, shape, glabels, gbboxes, corx, cory,cord])\n",
    "            chars = np.concatenate([np.expand_dims(corx_.T*shape_[1],0), np.expand_dims(cory_.T*shape_[0],0)], axis=0)\n",
    "            chars = cord_\n",
    "            fig = plt.figure(figsize=(10,10))\n",
    "            for i in range(chars.shape[2]):\n",
    "                cv2.polylines(image_,np.array(np.expand_dims(chars[:,:,i].T,axis=0),dtype=np.int32),True ,(0,255,255))\n",
    "            plt.imshow(image_)\n",
    "            plt.show() \n",
    "            visualize_bbox(image_, gbboxes_)"
   ]
  },
  {
   "cell_type": "code",
   "execution_count": null,
   "metadata": {
    "collapsed": true
   },
   "outputs": [],
   "source": [
    "gbboxes_.shape"
   ]
  },
  {
   "cell_type": "code",
   "execution_count": null,
   "metadata": {},
   "outputs": [],
   "source": [
    "batch_size = 1\n",
    "num_readers = 4\n",
    "shuffe = True\n",
    "with tf.Graph().as_default():\n",
    "    dataset = sythtextprovider.get_datasets('../data/sythtext/',file_pattern = '*.tfrecord')\n",
    "\n",
    "    provider = slim.dataset_data_provider.DatasetDataProvider(\n",
    "                dataset,\n",
    "                num_readers=num_readers,\n",
    "                common_queue_capacity=20 * batch_size,\n",
    "                common_queue_min=10 * batch_size,\n",
    "                shuffle=shuffe)\n",
    "\n",
    "    [image, shape, glabels, gbboxes, corx, cory] = provider.get(['image', 'shape',\n",
    "                                                     'object/label',\n",
    "                                                     'object/bbox',\n",
    "                                                     'object/corx',\n",
    "                                                     'object/cory'])\n",
    "    corx = tf.expand_dims(corx,-1)\n",
    "    cory = tf.expand_dims(cory,-1)\n",
    "\n",
    "    cord = tf.concat([corx, cory],-1)\n",
    "    image, glabels, gbboxes, gcord, num = \\\n",
    "    txt_preprocessing.preprocess_image(image, glabels,gbboxes, cord,\n",
    "                                       out_shape = (512,512),is_training=True)\n",
    "    bbox_ref = tf.constant([1.,2.,3.,4.],dtype=tf.float32)\n",
    "    vx = tf.expand_dims([bbox_ref[1], bbox_ref[1], bbox_ref[1], bbox_ref[1]],1)\n",
    "    vy = tf.expand_dims([bbox_ref[0], bbox_ref[0], bbox_ref[0], bbox_ref[0]],1)\n",
    "    v = tf.concat([vx,vy],-1)\n",
    "    test = cord - v\n",
    "    sx = tf.expand_dims([bbox_ref[2] - bbox_ref[0],\n",
    "                    bbox_ref[2] - bbox_ref[0],\n",
    "                    bbox_ref[2] - bbox_ref[0],\n",
    "                    bbox_ref[2] - bbox_ref[0]], 1)\n",
    "    sy = tf.expand_dims([bbox_ref[3] - bbox_ref[1],\n",
    "                        bbox_ref[3] - bbox_ref[1],\n",
    "                        bbox_ref[3] - bbox_ref[1],\n",
    "                        bbox_ref[3] - bbox_ref[1]], 1)\n",
    "    s = tf.concat([sx,sy],-1)\n",
    "    test = cord / s\n",
    "    with tf.Session() as sess,slim.queues.QueueRunners(sess): \n",
    "        sess.run(tf.global_variables_initializer())\n",
    "        #with slim.queues.QueueRunners(sess):\n",
    "        for i in xrange(1):\n",
    "            image_, shape_, labels_ , gbboxes_ , corx_, cory_, cord_, test_= \\\n",
    "                                    sess.run([image, shape, glabels, gbboxes, corx, cory,gcord, test])\n",
    "            corx_ = np.transpose(np.expand_dims(cord_[:,:,0],-1), (2,1,0))\n",
    "            cory_ = np.transpose(np.expand_dims(cord_[:,:,1],-1), (2,1,0))\n",
    "            chars = np.concatenate([corx_*512, cory_*512], 0)\n",
    "            \n",
    "            fig = plt.figure(figsize=(10,10))\n",
    "            image2 = image_.copy()\n",
    "            #image_ = image_.astype(np.uint8)\n",
    "            for i in range(chars.shape[2]):\n",
    "                cv2.polylines(image_,np.array(np.expand_dims(chars[:,:,i].T,axis=0),dtype=np.int32),True ,(255))\n",
    "            plt.imshow(image_)\n",
    "            plt.show() \n",
    "            visualize_bbox(image_, gbboxes_)"
   ]
  },
  {
   "cell_type": "code",
   "execution_count": null,
   "metadata": {},
   "outputs": [],
   "source": [
    "print labels_.shape\n",
    "print gbboxes_.shape\n",
    "print image2.max(), image2.min()\n",
    "print image_.max(), image_.min()"
   ]
  },
  {
   "cell_type": "code",
   "execution_count": 5,
   "metadata": {},
   "outputs": [
    {
     "name": "stdout",
     "output_type": "stream",
     "text": [
      "file_path: ../data/sythtext/*.tfrecord\n"
     ]
    }
   ],
   "source": [
    "batch_size = 1\n",
    "num_readers = 4\n",
    "shuffe = False\n",
    "with tf.Graph().as_default():\n",
    "    net = txtbox_512.TextboxNet()\n",
    "    anchors = net.anchors()\n",
    "    \n",
    "    dataset = sythtextprovider.get_datasets('../data/sythtext/',file_pattern = '*.tfrecord')\n",
    "\n",
    "    provider = slim.dataset_data_provider.DatasetDataProvider(\n",
    "                dataset,\n",
    "                num_readers=num_readers,\n",
    "                common_queue_capacity=20 * batch_size,\n",
    "                common_queue_min=10 * batch_size,\n",
    "                shuffle=shuffe)\n",
    "\n",
    "    [image, shape, glabels, gbboxes, corx, cory] = provider.get(['image', 'shape',\n",
    "                                                     'object/label',\n",
    "                                                     'object/bbox',\n",
    "                                                     'object/corx',\n",
    "                                                     'object/cory'])\n",
    "    corx = tf.expand_dims(corx,-1)\n",
    "    cory = tf.expand_dims(cory,-1)\n",
    "\n",
    "    cord = tf.concat([corx, cory],-1)\n",
    "    image, glabels, gbboxes, gcord, num = \\\n",
    "    txt_preprocessing.preprocess_image(image, glabels,gbboxes, cord,\n",
    "                                       out_shape = (512,512),is_training=True)\n",
    "    yref, xref, href, wref = anchors[3]\n",
    "    bbox = gcord[1]\n",
    "    \n",
    "    angle = tf.atan((bbox[3,1] - bbox[2,1])/tf.abs(bbox[2,0] - bbox[3,0]))\n",
    "    height = tf.sqrt(tf.square(bbox[3,1] - bbox[0,1])+tf.square(bbox[3,0] - bbox[0,0]))\n",
    "    rotate_matrix = tf.stack([-tf.sin(angle), tf.cos(angle)])\n",
    "    a_cord = tf.transpose(tf.stack([bbox[0,0] - xref, bbox[0,1]-yref]),perm=(1,2,0))\n",
    "    d_cord = tf.transpose(tf.stack([bbox[3,0] - xref, bbox[3,1]-yref]),perm=(1,2,0))\n",
    "    y_a = tf.reduce_sum(a_cord*rotate_matrix,axis=-1) + yref\n",
    "    y_d = tf.reduce_sum(a_cord*rotate_matrix,axis=-1) + yref\n",
    "    ys = (y_a + y_d)/2\n",
    "    with tf.Session() as sess,slim.queues.QueueRunners(sess): \n",
    "        sess.run(tf.global_variables_initializer())\n",
    "        #with slim.queues.QueueRunners(sess):\n",
    "        for i in xrange(1):\n",
    "            ys_,angle_ = sess.run([ys,angle])"
   ]
  },
  {
   "cell_type": "code",
   "execution_count": 11,
   "metadata": {},
   "outputs": [
    {
     "data": {
      "text/plain": [
       "[8, 8]"
      ]
     },
     "execution_count": 11,
     "metadata": {},
     "output_type": "execute_result"
    }
   ],
   "source": [
    "ys.get_shape().as_list()"
   ]
  },
  {
   "cell_type": "code",
   "execution_count": 56,
   "metadata": {},
   "outputs": [
    {
     "data": {
      "text/plain": [
       "0.78539819"
      ]
     },
     "execution_count": 56,
     "metadata": {},
     "output_type": "execute_result"
    }
   ],
   "source": [
    "isess.run(tf.atan(tf.constant(1,dtype=tf.float32)))"
   ]
  },
  {
   "cell_type": "code",
   "execution_count": 58,
   "metadata": {},
   "outputs": [
    {
     "data": {
      "text/plain": [
       "0.7853981633974483"
      ]
     },
     "execution_count": 58,
     "metadata": {},
     "output_type": "execute_result"
    }
   ],
   "source": [
    "\\"
   ]
  },
  {
   "cell_type": "code",
   "execution_count": null,
   "metadata": {
    "collapsed": true
   },
   "outputs": [],
   "source": []
  }
 ],
 "metadata": {
  "kernelspec": {
   "display_name": "tensorflow1.2",
   "language": "python",
   "name": "tf1.2"
  }
 },
 "nbformat": 4,
 "nbformat_minor": 2
}
